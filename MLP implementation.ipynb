{
  "nbformat": 4,
  "nbformat_minor": 0,
  "metadata": {
    "colab": {
      "provenance": []
    },
    "kernelspec": {
      "name": "python3",
      "display_name": "Python 3"
    },
    "language_info": {
      "name": "python"
    }
  },
  "cells": [
    {
      "cell_type": "code",
      "execution_count": null,
      "metadata": {
        "id": "j37p1loPDE8R"
      },
      "outputs": [],
      "source": [
        "#initialize random number Generator\n",
        "import matplotlib.pyplot as plt\n",
        "import numpy as np\n",
        "from math import exp\n",
        "import random\n",
        "#initialize random number gernerator\n",
        "np.random.seed(42)"
      ]
    },
    {
      "cell_type": "markdown",
      "source": [
        "# **Creating Calss Neuron**"
      ],
      "metadata": {
        "id": "mpRnDieTu06p"
      }
    },
    {
      "cell_type": "code",
      "source": [
        "class Neuron:\n",
        "    def __init__(self, num_inputs, activation_function):\n",
        "        # Initialize weights and store them\n",
        "        self.bias = np.random.uniform(-2.0, 2.0)  # Bias term initialized randomly between -2.0 and 2.0\n",
        "        self.weights = [np.random.uniform(-2.0, 2.0) for _ in range(num_inputs)]  # Weights initialized randomly for each input\n",
        "        self.activation_function = activation_function  # Activation function as a string (e.g., 'logist', 'tanh', 'id')\n",
        "\n",
        "        # Variables needed for training the network\n",
        "        # Δw = n * delta * out\n",
        "        # delta = (y' - y) * f'(net) for output layer\n",
        "        # delta = (∑ delta * w) * f'(net) for hidden layers\n",
        "        self.delta = 0  # Error signal for backpropagation\n",
        "        self.weighted_sum = 0  # Net input to the neuron\n",
        "        self.out = 0  # Output of the neuron after activation\n",
        "        self.out_deriv = 0  # Derivative of the output (used in backpropagation)\n",
        "\n",
        "    def activate(self, inputs):\n",
        "        # Calculate the weighted sum of the input vector plus the bias term\n",
        "        self.weighted_sum = sum([w * x for (w, x) in zip(self.weights, inputs)]) + self.bias\n",
        "\n",
        "        # Apply the activation function and return the output value\n",
        "        if self.activation_function == \"logist\":\n",
        "            # Logistic (sigmoid) function: 1 / (1 + e^(-weighted_sum))\n",
        "            self.out = 1 / (1 + exp(-self.weighted_sum))\n",
        "            return self.out\n",
        "        elif self.activation_function == \"tanh\":\n",
        "            # Tanh function: (e^x - e^(-x)) / (e^x + e^(-x))\n",
        "            self.out = (exp(self.weighted_sum) - exp(-self.weighted_sum)) / (exp(self.weighted_sum) + exp(-self.weighted_sum))\n",
        "            return self.out\n",
        "        elif self.activation_function == \"id\":\n",
        "            # Identity function: returns the weighted sum as is\n",
        "            self.out = self.weighted_sum\n",
        "            return self.out\n",
        "        else:\n",
        "            # Raise an error if an unknown activation function is provided\n",
        "            raise ValueError(\"Unknown activation function\")\n"
      ],
      "metadata": {
        "id": "E394qFfDG3fO"
      },
      "execution_count": null,
      "outputs": []
    },
    {
      "cell_type": "markdown",
      "source": [
        "# **Creating Class Layer**\n",
        "\n"
      ],
      "metadata": {
        "id": "RceTPe6ju_gj"
      }
    },
    {
      "cell_type": "code",
      "source": [
        "class Layer:\n",
        "    def __init__(self, num_neurons, num_inputs, activation_function):\n",
        "        # Raise an error if the number of neurons in a layer is not valid\n",
        "        if num_neurons > 1000 or num_neurons < 1:\n",
        "            raise ValueError(\"Number of neurons should be between 1 and 1000\")\n",
        "        # Initialize neurons in the layer and store them in a list\n",
        "        self.neurons = [Neuron(num_inputs, activation_function) for _ in range(num_neurons)]\n",
        "\n",
        "    def feed_forward(self, inputs):\n",
        "        # Pass inputs through each neuron and return their outputs\n",
        "        return [neuron.activate(inputs) for neuron in self.neurons]"
      ],
      "metadata": {
        "id": "h52BILsKTxvS"
      },
      "execution_count": null,
      "outputs": []
    },
    {
      "cell_type": "markdown",
      "source": [
        "# **Creating Class MLP**\n"
      ],
      "metadata": {
        "id": "EKDUPdSVvEU2"
      }
    },
    {
      "cell_type": "code",
      "source": [
        "class MLP:\n",
        "    def __init__(self, num_neurons, num_inputs, activation_functions):\n",
        "        # Check if the length of activation_functions matches the number of layers\n",
        "        if len(num_neurons) != len(activation_functions):\n",
        "            raise ValueError(\"The number of activation functions must match the number of layers.\")\n",
        "\n",
        "        # Initialize the number of inputs for each layer\n",
        "        num_inputs_per_layer = [num_inputs] + num_neurons[:-1]\n",
        "\n",
        "        # Initialize each layer with the corresponding number of neurons, inputs, and activation function\n",
        "        self.layers = [Layer(num_neurons, num_inputs, activation_function)\n",
        "                       for num_neurons, num_inputs, activation_function in zip(num_neurons, num_inputs_per_layer, activation_functions)]\n",
        "\n",
        "    def predict(self, vec):\n",
        "        # Forward pass through each layer until the output layer\n",
        "        x = vec  # Initialize input vector\n",
        "        for layer in self.layers:\n",
        "            x = layer.feed_forward(x)  # Pass output from one layer to the next\n",
        "        return x  # Return final output from the last layer\n",
        "\n"
      ],
      "metadata": {
        "id": "rVHhR4KogdGh"
      },
      "execution_count": null,
      "outputs": []
    },
    {
      "cell_type": "markdown",
      "source": [
        "# **Backpropagation Of Error**"
      ],
      "metadata": {
        "id": "DXJhSNU_Wy4x"
      }
    },
    {
      "cell_type": "code",
      "source": [
        "# Implement Backpropagation of Error Algorithm\n",
        "\n",
        "def backpropagation_step(mlp, vec, learning_rate_of_each_layer):\n",
        "    # Forward pass to get the prediction\n",
        "    y = mlp.predict(vec[0])\n",
        "\n",
        "    # Calculate deltas in the output layer\n",
        "    for i in range(len(mlp.layers[-1].neurons)):\n",
        "        neuron = mlp.layers[-1].neurons[i]\n",
        "\n",
        "        # Calculate derivative of activation function for the output neuron\n",
        "        if neuron.activation_function == \"logist\":\n",
        "            f_net_deriv = neuron.out * (1 - neuron.out)  # Derivative of sigmoid function\n",
        "        elif neuron.activation_function == \"tanh\":\n",
        "            f_net_deriv = 1 - neuron.out ** 2  # Derivative of tanh function\n",
        "        else:\n",
        "            f_net_deriv = 1\n",
        "\n",
        "        # Calculate delta for the output neuron\n",
        "        neuron.delta = (vec[1][i] - y[i]) * f_net_deriv\n",
        "\n",
        "        # Update weights and bias for the output neuron\n",
        "        for w in range(len(neuron.weights)):\n",
        "            neuron.weights[w] += learning_rate_of_each_layer[-1] * neuron.delta * mlp.layers[-2].neurons[w].out\n",
        "        neuron.bias += learning_rate_of_each_layer[-1] * neuron.delta\n",
        "\n",
        "    # Calculate deltas for hidden layers\n",
        "    for i in range(len(mlp.layers) - 2, 0, -1):\n",
        "        for index, neuron in enumerate(mlp.layers[i - 1].neurons):\n",
        "            # Calculate derivative of activation function for the hidden neuron\n",
        "            if neuron.activation_function == \"logist\":\n",
        "                f_net_deriv = neuron.out * (1 - neuron.out)  # Derivative of sigmoid function\n",
        "            elif neuron.activation_function == \"tanh\":\n",
        "                f_net_deriv = 1 - neuron.out ** 2  # Derivative of tanh function\n",
        "            else:\n",
        "                f_net_deriv = 1\n",
        "\n",
        "            # Calculate delta for the hidden neuron\n",
        "            neuron.delta = sum(\n",
        "                [next_neuron.delta * next_neuron.weights[index] for next_neuron in mlp.layers[i + 1].neurons]\n",
        "            ) * f_net_deriv\n",
        "\n",
        "            # Update weights and bias for the hidden neuron\n",
        "            for w in range(len(neuron.weights)):\n",
        "                neuron.weights[w] += learning_rate_of_each_layer[i] * neuron.delta * mlp.layers[i - 1].neurons[w].out\n",
        "            neuron.bias += learning_rate_of_each_layer[i] * neuron.delta\n",
        "\n",
        "    # Update the first layer\n",
        "    for index, neuron in enumerate(mlp.layers[0].neurons):\n",
        "        # Calculate derivative of activation function for the first layer neuron\n",
        "        if neuron.activation_function == \"logist\":\n",
        "            f_net_deriv = neuron.out * (1 - neuron.out)  # Derivative of sigmoid function\n",
        "        elif neuron.activation_function == \"tanh\":\n",
        "            f_net_deriv = 1 - neuron.out ** 2  # Derivative of tanh function\n",
        "        else:\n",
        "            f_net_deriv = 1\n",
        "\n",
        "        # Calculate delta for the first layer neuron\n",
        "        neuron.delta = sum(\n",
        "            [next_neuron.delta * next_neuron.weights[index] for next_neuron in mlp.layers[1].neurons]\n",
        "        ) * f_net_deriv\n",
        "\n",
        "        # Update weights and bias for the first layer neuron\n",
        "        for w in range(len(neuron.weights)):\n",
        "            neuron.weights[w] += learning_rate_of_each_layer[0] * neuron.delta * vec[0][w]\n",
        "        neuron.bias += learning_rate_of_each_layer[0] * neuron.delta\n",
        "\n",
        "\n",
        "\n",
        "\n",
        "\n",
        "# Training function\n",
        "def backpropagation(mlp, number_of_iterations, train_data, learning_rate_of_each_layer):\n",
        "    error_list = []\n",
        "\n",
        "    # Iterate through the number of training iterations\n",
        "    for iteration in range(number_of_iterations):\n",
        "        total_error = 0\n",
        "\n",
        "        # Iterate over each training data point\n",
        "        for data in train_data:\n",
        "            # Perform a backpropagation step for the given data\n",
        "            backpropagation_step(mlp, [data[:-1], [data[-1]]], learning_rate_of_each_layer)\n",
        "\n",
        "            # Calculate the error for the prediction\n",
        "            predicted_output = mlp.predict(data[:-1])\n",
        "            total_error += sum([(predicted_output[i] - data[-1]) ** 2 for i in range(len(predicted_output))])\n",
        "\n",
        "        # Append the average error for this iteration\n",
        "        error_list.append(total_error / len(train_data))\n",
        "\n",
        "        # Print the error for each iteration (optional, for debugging)\n",
        "        # print(f\"Iteration {iteration + 1}, Error: {total_error / len(train_data)}\")\n",
        "\n",
        "    # Save learning curve to file\n",
        "    with open(\"learning_curve.txt\", \"w\") as f:\n",
        "        for i, error in enumerate(error_list):\n",
        "            f.write(f\"{i + 1} {error}\\n\")\n",
        "\n",
        "    # Visualize the learning curve\n",
        "    plt.plot(range(1, number_of_iterations + 1), error_list)\n",
        "    plt.xlabel('Iteration')\n",
        "    plt.ylabel('Error')\n",
        "    plt.title('Learning Curve')\n",
        "    plt.show()\n"
      ],
      "metadata": {
        "id": "jMMksfQYXSL4"
      },
      "execution_count": null,
      "outputs": []
    },
    {
      "cell_type": "markdown",
      "source": [
        "# **Data Pre-processing**\n",
        "\n"
      ],
      "metadata": {
        "id": "A_G0WdzkkrDX"
      }
    },
    {
      "cell_type": "code",
      "source": [
        "# Initialize an empty list to hold the 2D list structure\n",
        "training_data = []\n",
        "\n",
        "# Open the file and read it line by line\n",
        "with open('/content/sample_data/PA-A_training_data_04.txt') as file:\n",
        "    for line in file:\n",
        "        # Split each line by whitespace and convert it to a list of values\n",
        "        values = line.split()\n",
        "        # Append the parsed values to the main list\n",
        "        training_data.append(values)\n",
        "\n",
        "# Skip the first four rows (assuming these are header rows)\n",
        "training_data = training_data[4:]\n",
        "\n",
        "# Convert all elements to float\n",
        "for i in range(len(training_data)):\n",
        "    for j in range(len(training_data[i])):\n",
        "        training_data[i][j] = float(training_data[i][j])\n",
        "\n",
        "# Print the processed training data\n",
        "print(training_data)\n",
        "\n",
        "# Split the data into training and test sets\n",
        "# Set the desired split ratio (80% training, 20% testing)\n",
        "split_ratio = 0.8\n",
        "split_index = int(len(training_data) * split_ratio)\n",
        "\n",
        "# Shuffle the data to ensure randomness\n",
        "random.shuffle(training_data)\n",
        "\n",
        "# Split the data into training and testing sets\n",
        "train_data = training_data[:split_index]\n",
        "test_data = training_data[split_index:]\n",
        "\n",
        "# Separate features and labels for the training set\n",
        "train = []\n",
        "for data in train_data:\n",
        "    train.append(data[:-1])  # Append features (all except the last element)\n",
        "    train.append([data[-1]])  # Append label (last element)\n",
        "\n",
        "# Separate features and labels for the test set\n",
        "test = []\n",
        "for data in test_data:\n",
        "    test.append(data[:-1])  # Append features (all except the last element)\n",
        "    test.append([data[-1]])  # Append label (last element)\n"
      ],
      "metadata": {
        "id": "2eWzymd3Q13Q",
        "colab": {
          "base_uri": "https://localhost:8080/"
        },
        "outputId": "dafe4cbc-29a7-49dc-aad1-145154389ef4"
      },
      "execution_count": null,
      "outputs": [
        {
          "output_type": "stream",
          "name": "stdout",
          "text": [
            "[[-1.91919, -1.0, 0.550063], [-1.87879, -1.0, 0.552135], [-1.47475, -1.0, 0.469293], [-1.43434, -1.0, 0.451852], [-1.39394, -1.0, 0.433109], [-1.15152, -1.0, 0.300662], [-1.11111, -1.0, 0.276604], [-1.07071, -1.0, 0.252388], [-1.0303, -1.0, 0.228172], [-0.989899, -1.0, 0.204114], [-0.949495, -1.0, 0.180372], [-0.909091, -1.0, 0.157101], [-0.666667, -1.0, 0.0355155], [-0.10101, -1.0, -0.0273895], [-0.0606061, -1.0, -0.0177471], [-0.020202, -1.0, -0.00634131], [0.020202, -1.0, 0.00675336], [0.0606061, -1.0, 0.0214515], [0.10101, -1.0, 0.0376572], [0.141414, -1.0, 0.0552646], [0.181818, -1.0, 0.0741589], [0.222222, -1.0, 0.0942167], [0.262626, -1.0, 0.115307], [0.30303, -1.0, 0.137293], [0.343434, -1.0, 0.16003], [0.666667, -1.0, 0.3506], [0.707071, -1.0, 0.373163], [0.747475, -1.0, 0.394937], [0.787879, -1.0, 0.415782], [0.828283, -1.0, 0.435561], [0.868687, -1.0, 0.454145], [0.909091, -1.0, 0.471413], [0.949495, -1.0, 0.487251], [0.989899, -1.0, 0.501557], [1.0303, -1.0, 0.514237], [1.07071, -1.0, 0.525208], [1.31313, -1.0, 0.55198], [1.35354, -1.0, 0.54966], [1.39394, -1.0, 0.5454], [1.43434, -1.0, 0.539229], [1.63636, -1.0, 0.48152], [1.83838, -1.0, 0.386921], [1.87879, -1.0, 0.364836], [1.91919, -1.0, 0.342017], [1.9596, -1.0, 0.318613], [2.0, -1.0, 0.294777], [-2.0, -0.666667, 0.485197], [-1.9596, -0.666667, 0.483113], [-1.91919, -0.666667, 0.479086], [-1.87879, -0.666667, 0.473143], [-1.83838, -0.666667, 0.465322], [-1.79798, -0.666667, 0.455676], [-1.75758, -0.666667, 0.444266], [-1.71717, -0.666667, 0.431168], [-1.67677, -0.666667, 0.416467], [-1.15152, -0.666667, 0.134196], [-1.11111, -0.666667, 0.110504], [-1.07071, -0.666667, 0.0873019], [-1.0303, -0.666667, 0.0647407], [-0.868687, -0.666667, -0.0162326], [-0.828283, -0.666667, -0.0334969], [-0.787879, -0.666667, -0.049332], [-0.747475, -0.666667, -0.0636343], [-0.505051, -0.666667, -0.112806], [-0.464646, -0.666667, -0.114394], [-0.424242, -0.666667, -0.114025], [-0.383838, -0.666667, -0.1117], [-0.343434, -0.666667, -0.107437], [-0.30303, -0.666667, -0.101261], [-0.262626, -0.666667, -0.0932132], [-0.222222, -0.666667, -0.0833467], [0.020202, -0.666667, 0.00967472], [0.0606061, -0.666667, 0.0298689], [0.10101, -0.666667, 0.0510789], [0.141414, -0.666667, 0.0731663], [0.181818, -0.666667, 0.0959868], [0.222222, -0.666667, 0.119392], [0.262626, -0.666667, 0.143228], [0.30303, -0.666667, 0.16734], [0.343434, -0.666667, 0.191571], [0.383838, -0.666667, 0.215762], [0.424242, -0.666667, 0.239756], [0.464646, -0.666667, 0.263396], [0.505051, -0.666667, 0.286528], [0.545455, -0.666667, 0.309], [0.787879, -0.666667, 0.422195], [0.828283, -0.666667, 0.436302], [0.989899, -0.666667, 0.475607], [1.0303, -0.666667, 0.480831], [1.07071, -0.666667, 0.484128], [1.11111, -0.666667, 0.485476], [1.83838, -0.666667, 0.224845], [1.87879, -0.666667, 0.20071], [1.91919, -0.666667, 0.176475], [1.9596, -0.666667, 0.152299], [2.0, -0.666667, 0.128341], [-2.0, -0.333333, 0.376863], [-1.9596, -0.333333, 0.366992], [-1.91919, -0.333333, 0.355367], [-1.87879, -0.333333, 0.342064], [-1.83838, -0.333333, 0.327168], [-1.47475, -0.333333, 0.140388], [-1.43434, -0.333333, 0.116276], [-1.39394, -0.333333, 0.0920447], [-1.23232, -0.333333, -0.00290887], [-1.19192, -0.333333, -0.0253795], [-1.15152, -0.333333, -0.0470439], [-1.11111, -0.333333, -0.0677607], [-1.07071, -0.333333, -0.0873946], [-1.0303, -0.333333, -0.105818], [-0.989899, -0.333333, -0.122909], [-0.949495, -0.333333, -0.138558], [-0.909091, -0.333333, -0.152662], [-0.707071, -0.333333, -0.197171], [-0.666667, -0.333333, -0.200464], [-0.464646, -0.333333, -0.187709], [-0.424242, -0.333333, -0.179431], [-0.222222, -0.333333, -0.112351], [-0.181818, -0.333333, -0.0944107], [-0.141414, -0.333333, -0.0752137], [-0.10101, -0.333333, -0.0548851], [-0.0606061, -0.333333, -0.0335578], [-0.020202, -0.333333, -0.0113708], [0.020202, -0.333333, 0.011531], [0.0606061, -0.333333, 0.0349982], [0.10101, -0.333333, 0.0588776], [0.141414, -0.333333, 0.0830133], [0.181818, -0.333333, 0.107248], [0.222222, -0.333333, 0.131423], [0.262626, -0.333333, 0.155381], [0.30303, -0.333333, 0.178966], [0.343434, -0.333333, 0.202023], [0.666667, -0.333333, 0.3506], [0.949495, -0.333333, 0.398154], [0.989899, -0.333333, 0.3973], [1.0303, -0.333333, 0.394493], [1.27273, -0.333333, 0.33855], [1.31313, -0.333333, 0.323278], [1.35354, -0.333333, 0.306537], [1.39394, -0.333333, 0.288436], [1.67677, -0.333333, 0.134486], [1.71717, -0.333333, 0.11033], [1.75758, -0.333333, 0.086094], [1.79798, -0.333333, 0.0619369], [1.83838, -0.333333, 0.0380162], [1.87879, -0.333333, 0.014488], [1.91919, -0.333333, -0.00849408], [1.9596, -0.333333, -0.0307801], [2.0, -0.333333, -0.0522247], [-2.0, 0.0, 0.227041], [-1.9596, 0.0, 0.210471], [-1.91919, 0.0, 0.192528], [-1.43434, 0.0, -0.0808592], [-1.39394, 0.0, -0.103915], [-1.35354, 0.0, -0.126293], [-1.15152, 0.0, -0.223105], [-1.11111, 0.0, -0.238566], [-1.07071, 0.0, -0.25247], [-1.0303, 0.0, -0.264727], [-0.989899, 0.0, -0.275255], [-0.424242, 0.0, -0.225084], [-0.383838, 0.0, -0.20834], [-0.343434, 0.0, -0.190236], [-0.0606061, 0.0, -0.0362747], [-0.020202, 0.0, -0.0121179], [0.020202, 0.0, 0.0121179], [0.0606061, 0.0, 0.0362747], [0.10101, 0.0, 0.0601947], [0.141414, 0.0, 0.0837218], [0.181818, 0.0, 0.106703], [0.222222, 0.0, 0.128987], [0.262626, 0.0, 0.150429], [0.30303, 0.0, 0.17089], [0.343434, 0.0, 0.190236], [0.424242, 0.0, 0.225084], [0.464646, 0.0, 0.240359], [0.505051, 0.0, 0.254066], [0.545455, 0.0, 0.266114], [0.787879, 0.0, 0.299996], [0.909091, 0.0, 0.290867], [1.83838, 0.0, -0.152997], [1.87879, 0.0, -0.173328], [1.91919, 0.0, -0.192528], [1.9596, 0.0, -0.210471], [2.0, 0.0, -0.227041], [-2.0, 0.333333, 0.0522247], [-1.55556, 0.333333, -0.204911], [-1.51515, 0.333333, -0.227194], [-1.47475, 0.333333, -0.248634], [-1.43434, 0.333333, -0.269093], [-1.39394, 0.333333, -0.288436], [-0.464646, 0.333333, -0.266549], [-0.424242, 0.333333, -0.245958], [-0.262626, 0.333333, -0.155381], [-0.222222, 0.333333, -0.131423], [-0.10101, 0.333333, -0.0588776], [-0.0606061, 0.333333, -0.0349982], [-0.020202, 0.333333, -0.011531], [0.020202, 0.333333, 0.0113708], [0.181818, 0.333333, 0.0944107], [0.222222, 0.333333, 0.112351], [1.23232, 0.333333, 0.00290887], [1.27273, 0.333333, -0.0202214], [1.31313, 0.333333, -0.0438603], [2.0, 0.333333, -0.376863], [-2.0, 0.666667, -0.128341], [-1.9596, 0.666667, -0.152299], [-1.91919, 0.666667, -0.176475], [-1.87879, 0.666667, -0.20071], [-1.83838, 0.666667, -0.224845], [-1.79798, 0.666667, -0.248724], [-0.828283, 0.666667, -0.436302], [-0.666667, 0.666667, -0.371022], [-0.585859, 0.666667, -0.330666], [-0.545455, 0.666667, -0.309], [-0.505051, 0.666667, -0.286528], [-0.464646, 0.666667, -0.263396], [-0.343434, 0.666667, -0.191571], [-0.30303, 0.666667, -0.16734], [0.10101, 0.666667, 0.0435335], [0.626263, 0.666667, 0.0964656], [0.666667, 0.666667, 0.0872783], [0.707071, 0.666667, 0.0763107], [1.67677, 0.666667, -0.416467], [1.71717, 0.666667, -0.431168], [1.87879, 0.666667, -0.473143], [1.91919, 0.666667, -0.479086], [1.9596, 0.666667, -0.483113], [2.0, 0.666667, -0.485197], [-2.0, 1.0, -0.294777], [-1.9596, 1.0, -0.318613], [-1.91919, 1.0, -0.342017], [-1.87879, 1.0, -0.364836], [-1.83838, 1.0, -0.386921], [-1.79798, 1.0, -0.408129], [-1.75758, 1.0, -0.428321], [-1.15152, 1.0, -0.541751], [-1.11111, 1.0, -0.5344], [-1.07071, 1.0, -0.525208], [-1.0303, 1.0, -0.514237], [-0.989899, 1.0, -0.501557], [-0.949495, 1.0, -0.487251], [-0.909091, 1.0, -0.471413], [-0.868687, 1.0, -0.454145], [-0.828283, 1.0, -0.435561], [-0.787879, 1.0, -0.415782], [-0.545455, 1.0, -0.279676], [-0.505051, 1.0, -0.255472], [-0.464646, 1.0, -0.231247], [-0.424242, 1.0, -0.20716], [-0.383838, 1.0, -0.18337], [0.30303, 1.0, 0.0473722], [0.343434, 1.0, 0.0455401], [0.949495, 1.0, -0.180372], [0.989899, 1.0, -0.204114], [1.79798, 1.0, -0.55041], [1.83838, 1.0, -0.552251], [1.87879, 1.0, -0.552135], [1.91919, 1.0, -0.550063], [1.9596, 1.0, -0.546049], [2.0, 1.0, -0.540119], [-2.0, 1.33333, -0.428763], [-1.9596, 1.33333, -0.449851], [-1.91919, 1.33333, -0.469907], [-1.87879, 1.33333, -0.488798], [-1.75758, 1.33333, -0.5373], [-1.71717, 1.33333, -0.550391], [-0.10101, 1.33333, -0.0200899], [-0.0606061, 1.33333, -0.0106726], [-0.020202, 1.33333, -0.00308856], [0.020202, 1.33333, 0.00261262], [0.0606061, 1.33333, 0.00639377], [0.10101, 1.33333, 0.00823022], [0.141414, 1.33333, 0.00810998], [0.262626, 1.33333, -0.00391928], [0.30303, 1.33333, -0.0117313], [0.383838, 1.33333, -0.0327717], [0.989899, 1.33333, -0.342791], [1.0303, 1.33333, -0.366484], [1.07071, 1.33333, -0.389689], [1.15152, 1.33333, -0.43403], [1.83838, 1.33333, -0.578384], [1.87879, 1.33333, -0.570345], [1.91919, 1.33333, -0.560487], [1.9596, 1.33333, -0.548873], [2.0, 1.33333, -0.53558], [-2.0, 1.66667, -0.515548], [-1.9596, 1.66667, -0.531568], [-1.43434, 1.66667, -0.578453], [-1.39394, 1.66667, -0.568811], [-1.15152, 1.66667, -0.476905], [-1.11111, 1.66667, -0.456847], [-1.07071, 1.66667, -0.435757], [-1.0303, 1.66667, -0.413771], [-0.989899, 1.66667, -0.391034], [-0.949495, 1.66667, -0.367694], [-0.747475, 1.66667, -0.24736], [-0.707071, 1.66667, -0.223667], [-0.141414, 1.66667, -0.00385012], [-0.10101, 1.66667, -0.00031097], [-0.0606061, 1.66667, 0.00128129], [-0.020202, 1.66667, 0.000916254], [0.020202, 1.66667, -0.00140369], [0.0606061, 1.66667, -0.00566339], [0.222222, 1.66667, -0.0413583], [0.262626, 1.66667, -0.0546547], [0.383838, 1.66667, -0.103699], [0.989899, 1.66667, -0.443731], [1.0303, 1.66667, -0.464452], [1.07071, 1.66667, -0.484091], [1.11111, 1.66667, -0.50252], [1.15152, 1.66667, -0.519618], [1.19192, 1.66667, -0.535273], [1.23232, 1.66667, -0.549384], [1.51515, 1.66667, -0.598587], [1.79798, 1.66667, -0.554343], [1.83838, 1.66667, -0.540846], [1.87879, 1.66667, -0.525768], [1.91919, 1.66667, -0.509208], [1.9596, 1.66667, -0.491274], [2.0, 1.66667, -0.472082], [-2.0, 2.0, -0.545578], [-1.9596, 2.0, -0.554766], [-1.91919, 2.0, -0.562113], [-1.63636, 2.0, -0.559561], [-1.0303, 2.0, -0.29096], [-0.989899, 2.0, -0.266729], [-0.949495, 2.0, -0.242538], [-0.909091, 2.0, -0.218544], [-0.626263, 2.0, -0.0688526], [-0.585859, 2.0, -0.0517578], [-0.020202, 2.0, 0.0048202], [0.0606061, 2.0, -0.0170971], [0.10101, 2.0, -0.0305975], [0.141414, 2.0, -0.0456785], [0.181818, 2.0, -0.0622417], [0.383838, 2.0, -0.16321], [0.424242, 2.0, -0.186111], [0.464646, 2.0, -0.209577], [0.909091, 2.0, -0.46063], [0.949495, 2.0, -0.478899], [0.989899, 2.0, -0.495822], [1.0303, 2.0, -0.51129], [1.07071, 2.0, -0.525202], [1.39394, 2.0, -0.571935], [1.91919, 2.0, -0.401873], [1.9596, 2.0, -0.379592], [2.0, 2.0, -0.356614]]\n"
          ]
        }
      ]
    },
    {
      "cell_type": "markdown",
      "source": [
        "# **MLP Example**"
      ],
      "metadata": {
        "id": "A-uo3lbTk8VA"
      }
    },
    {
      "cell_type": "code",
      "source": [
        "# Example MLP configuration\n",
        "num_neurons = [2,3,3,1]  # Number of neurons in each layer\n",
        "num_inputs = 2  # Number of inputs to the first layer\n",
        "activation_functions = [ \"tanh\",\"tanh\",\"tanh\",\"tanh\"]  # Activation functions for each layer\n",
        "\n",
        "mlp = MLP(num_neurons, num_inputs, activation_functions)\n",
        "\n"
      ],
      "metadata": {
        "id": "shhe0jRtA3XE"
      },
      "execution_count": null,
      "outputs": []
    },
    {
      "cell_type": "markdown",
      "source": [
        "#**Test the code**"
      ],
      "metadata": {
        "id": "MiGmBmoTlJp6"
      }
    },
    {
      "cell_type": "code",
      "source": [
        "backpropagation(mlp,1000,train_data,[0.01,0.01,0.01,0.01])"
      ],
      "metadata": {
        "colab": {
          "base_uri": "https://localhost:8080/",
          "height": 472
        },
        "id": "IgbaNMLelkj5",
        "outputId": "9844dc54-740e-4e02-a6cd-6cd4d15d4f2c"
      },
      "execution_count": null,
      "outputs": [
        {
          "output_type": "display_data",
          "data": {
            "text/plain": [
              "<Figure size 640x480 with 1 Axes>"
            ],
            "image/png": "[encoded data removed]"
          },
          "metadata": {}
        }
      ]
    },
    {
      "cell_type": "code",
      "source": [
        "def test_mlp(mlp, test_data):\n",
        "    total_error = 0\n",
        "    correct_predictions = 0\n",
        "    predictions = []\n",
        "\n",
        "    # Iterate over each test data point\n",
        "    for data in test_data:\n",
        "        # Perform a forward pass to get the prediction\n",
        "        predicted_output = mlp.predict(data[:-1])\n",
        "        predictions.append(predicted_output)\n",
        "\n",
        "        # Calculate the error for the prediction\n",
        "        error = sum([(predicted_output[i] - data[-1]) ** 2 for i in range(len(predicted_output))])\n",
        "        total_error += error\n",
        "\n",
        "    # Calculate average error across all test samples\n",
        "    avg_error = total_error / len(test_data)\n",
        "\n",
        "    # Print the results\n",
        "    print(f\"Average Error on Test Set: {avg_error}\")\n",
        "\n",
        "    # Return predictions and average error\n",
        "    return predictions, avg_error\n",
        "\n",
        "\n",
        "# Run the test function on the test data\n",
        "predictions, avg_error = test_mlp(mlp, test_data)\n",
        "\n",
        "# Print predictions for analysis\n"
      ],
      "metadata": {
        "id": "l3LCk5cDtC9H",
        "colab": {
          "base_uri": "https://localhost:8080/"
        },
        "outputId": "d37b2001-1eb4-4959-a6f3-e07ace8ab289"
      },
      "execution_count": null,
      "outputs": [
        {
          "output_type": "stream",
          "name": "stdout",
          "text": [
            "Average Error on Test Set: 0.04216846730675933\n"
          ]
        }
      ]
    }
  ]
}